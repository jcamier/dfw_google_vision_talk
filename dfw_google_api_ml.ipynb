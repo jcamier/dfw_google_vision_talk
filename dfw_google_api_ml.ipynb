{
 "cells": [
  {
   "cell_type": "markdown",
   "metadata": {},
   "source": [
    "# Welcome to the Ai/ML Meetup - Friday, April 19th, 2019"
   ]
  },
  {
   "cell_type": "markdown",
   "metadata": {},
   "source": [
    "## I am a fellow Data Scientist & Python Developer in Building #600"
   ]
  },
  {
   "cell_type": "markdown",
   "metadata": {},
   "source": [
    "# My talk today is focused on how we can use the various ML tools available to us to build more complex and insightful models.\n",
    "# I will be using the tools developed by Google based on a talk I saw last weekend at PyTexas"
   ]
  },
  {
   "cell_type": "code",
   "execution_count": 1,
   "metadata": {},
   "outputs": [
    {
     "data": {
      "text/plain": [
       "'3.6.7 |Anaconda, Inc.| (default, Oct 23 2018, 14:01:38) \\n[GCC 4.2.1 Compatible Clang 4.0.1 (tags/RELEASE_401/final)]'"
      ]
     },
     "execution_count": 1,
     "metadata": {},
     "output_type": "execute_result"
    }
   ],
   "source": [
    "import sys\n",
    "sys.version"
   ]
  },
  {
   "cell_type": "markdown",
   "metadata": {},
   "source": [
    "# Import Dependencies/Packages"
   ]
  },
  {
   "cell_type": "code",
   "execution_count": 15,
   "metadata": {},
   "outputs": [],
   "source": [
    "import os\n",
    "import io\n",
    "import base64\n",
    "import json\n",
    "from google.cloud import pubsub_v1\n",
    "from google.cloud import storage\n",
    "from google.cloud import translate\n",
    "from google.cloud import vision\n",
    "from google.cloud import language\n",
    "from google.cloud.vision import types as v_types\n",
    "from google.cloud.language import enums\n",
    "from google.cloud.language import types"
   ]
  },
  {
   "cell_type": "markdown",
   "metadata": {},
   "source": [
    "## To use Google's ML API's, you will need an account and credentials."
   ]
  },
  {
   "cell_type": "code",
   "execution_count": 16,
   "metadata": {
    "collapsed": true
   },
   "outputs": [],
   "source": [
    "CURRENT_DIR = os.getcwd()\n",
    "GOOGLE_CRED_FILE = \"image-to-sentiment-9462fc808e0f.json\"\n",
    "GOOGLE_CRED_FILE_PATH = os.path.join(CURRENT_DIR, GOOGLE_CRED_FILE)\n",
    "os.environ[\"GOOGLE_APPLICATION_CREDENTIALS\"] = GOOGLE_CRED_FILE_PATH"
   ]
  },
  {
   "cell_type": "code",
   "execution_count": 17,
   "metadata": {
    "collapsed": true
   },
   "outputs": [],
   "source": [
    "## Instantiate Necessary Google Vision Objects"
   ]
  },
  {
   "cell_type": "code",
   "execution_count": 18,
   "metadata": {
    "collapsed": true
   },
   "outputs": [],
   "source": [
    "vision_client = vision.ImageAnnotatorClient()\n",
    "translate_client = translate.Client()\n",
    "publisher = pubsub_v1.PublisherClient()\n",
    "storage_client = storage.Client()\n",
    "language_client = language.LanguageServiceClient()\n",
    "\n",
    "with open('config.json') as f:\n",
    "    data = f.read()\n",
    "config = json.loads(data)"
   ]
  },
  {
   "cell_type": "markdown",
   "metadata": {},
   "source": [
    "## Let's start with a basic image. I won't tell you nor Google what it is. Let's call it \"something\"."
   ]
  },
  {
   "cell_type": "code",
   "execution_count": 19,
   "metadata": {
    "collapsed": true
   },
   "outputs": [],
   "source": [
    "some_image = os.path.join(CURRENT_DIR, \"something.jpg\")"
   ]
  },
  {
   "cell_type": "code",
   "execution_count": 20,
   "metadata": {},
   "outputs": [
    {
     "name": "stdout",
     "output_type": "stream",
     "text": [
      "Labels:\n",
      "Cat\n",
      "Mammal\n",
      "Small to medium-sized cats\n",
      "Felidae\n",
      "Whiskers\n",
      "Carnivore\n",
      "Aegean cat\n",
      "Domestic short-haired cat\n",
      "American wirehair\n",
      "Kitten\n"
     ]
    }
   ],
   "source": [
    "# The name of the image file to annotate\n",
    "file_name = some_image\n",
    "\n",
    "# Load the image into memory\n",
    "with io.open(file_name, 'rb') as image_file:\n",
    "    content = image_file.read()\n",
    "\n",
    "image = v_types.Image(content=content)\n",
    "\n",
    "# Performs label detection on the image file\n",
    "response = vision_client.label_detection(image=image)\n",
    "labels = response.label_annotations\n",
    "\n",
    "print('Labels:')\n",
    "for label in labels:\n",
    "    print(label.description)"
   ]
  },
  {
   "cell_type": "markdown",
   "metadata": {},
   "source": [
    "## Google Vision is telling us that the image is a cat. Well Let's see how it did?"
   ]
  },
  {
   "cell_type": "code",
   "execution_count": 21,
   "metadata": {},
   "outputs": [
    {
     "data": {
      "text/html": [
       "<img src=\"something.jpg\" width=\"400\"/>"
      ],
      "text/plain": [
       "<IPython.core.display.HTML object>"
      ]
     },
     "metadata": {},
     "output_type": "display_data"
    }
   ],
   "source": [
    "%%HTML\n",
    "<img src=\"something.jpg\" width=\"400\"/>"
   ]
  },
  {
   "cell_type": "markdown",
   "metadata": {},
   "source": [
    "## Great Job Google! Well let's try another picture..."
   ]
  },
  {
   "cell_type": "code",
   "execution_count": 22,
   "metadata": {
    "collapsed": true
   },
   "outputs": [],
   "source": [
    "some_image2 = os.path.join(CURRENT_DIR, \"some_image_2.jpg\")"
   ]
  },
  {
   "cell_type": "code",
   "execution_count": 24,
   "metadata": {},
   "outputs": [
    {
     "name": "stdout",
     "output_type": "stream",
     "text": [
      "Labels:\n",
      "Dog\n",
      "Mammal\n",
      "Vertebrate\n",
      "Canidae\n",
      "Dog breed\n",
      "Morkie\n",
      "Schnoodle\n",
      "Carnivore\n",
      "Puppy\n",
      "Companion dog\n"
     ]
    }
   ],
   "source": [
    "file_name = some_image2\n",
    "\n",
    "with io.open(file_name, 'rb') as image_file:\n",
    "    content = image_file.read()\n",
    "    image = v_types.Image(content=content)\n",
    "    \n",
    "response = vision_client.label_detection(image=image)\n",
    "labels = response.label_annotations\n",
    "\n",
    "print('Labels:')\n",
    "for label in labels:\n",
    "    print(label.description)"
   ]
  },
  {
   "cell_type": "markdown",
   "metadata": {},
   "source": [
    "## Google Vision is telling us that the image is a dog. Well is it?"
   ]
  },
  {
   "cell_type": "code",
   "execution_count": 25,
   "metadata": {},
   "outputs": [
    {
     "data": {
      "text/html": [
       "<img src=\"some_image_2.jpg\" width=\"600\" style=\"transform:rotate(90deg);\"/>"
      ],
      "text/plain": [
       "<IPython.core.display.HTML object>"
      ]
     },
     "metadata": {},
     "output_type": "display_data"
    }
   ],
   "source": [
    "%%HTML\n",
    "<img src=\"some_image_2.jpg\" width=\"600\" style=\"transform:rotate(90deg);\"/>"
   ]
  },
  {
   "cell_type": "markdown",
   "metadata": {},
   "source": [
    "\n",
    "## Well Google was right again..."
   ]
  },
  {
   "cell_type": "markdown",
   "metadata": {},
   "source": [
    "## Hmm, how good is Google vision on reading images with text...?"
   ]
  },
  {
   "cell_type": "code",
   "execution_count": 26,
   "metadata": {
    "collapsed": true
   },
   "outputs": [],
   "source": [
    "text_image = os.path.join(CURRENT_DIR, \"text_image_1.jpg\")"
   ]
  },
  {
   "cell_type": "code",
   "execution_count": 27,
   "metadata": {
    "collapsed": true
   },
   "outputs": [],
   "source": [
    "def detect_document(path):\n",
    "    \"\"\"Detects document features in an image.\"\"\"\n",
    "    from google.cloud import vision\n",
    "    client = vision.ImageAnnotatorClient()\n",
    "\n",
    "    with io.open(path, 'rb') as image_file:\n",
    "        content = image_file.read()\n",
    "\n",
    "    image = vision.types.Image(content=content)\n",
    "\n",
    "    response = client.document_text_detection(image=image)\n",
    "\n",
    "    for page in response.full_text_annotation.pages:\n",
    "        for block in page.blocks:\n",
    "            print('\\nBlock confidence: {}\\n'.format(block.confidence))\n",
    "\n",
    "            for paragraph in block.paragraphs:\n",
    "                print('Paragraph confidence: {}'.format(\n",
    "                    paragraph.confidence))\n",
    "\n",
    "                for word in paragraph.words:\n",
    "                    word_text = ''.join([\n",
    "                        symbol.text for symbol in word.symbols\n",
    "                    ])\n",
    "                    print('Word text: {} (confidence: {})'.format(\n",
    "                        word_text, word.confidence))\n",
    "\n",
    "                    for symbol in word.symbols:\n",
    "                        print('\\tSymbol: {} (confidence: {})'.format(\n",
    "                            symbol.text, symbol.confidence))"
   ]
  },
  {
   "cell_type": "code",
   "execution_count": 28,
   "metadata": {},
   "outputs": [
    {
     "name": "stdout",
     "output_type": "stream",
     "text": [
      "\n",
      "Block confidence: 0.9900000095367432\n",
      "\n",
      "Paragraph confidence: 0.9900000095367432\n",
      "Word text: WELCOME (confidence: 0.9900000095367432)\n",
      "\tSymbol: W (confidence: 0.9900000095367432)\n",
      "\tSymbol: E (confidence: 0.9900000095367432)\n",
      "\tSymbol: L (confidence: 0.9900000095367432)\n",
      "\tSymbol: C (confidence: 1.0)\n",
      "\tSymbol: O (confidence: 1.0)\n",
      "\tSymbol: M (confidence: 1.0)\n",
      "\tSymbol: E (confidence: 1.0)\n",
      "\n",
      "Block confidence: 0.9800000190734863\n",
      "\n",
      "Paragraph confidence: 0.9800000190734863\n",
      "Word text: ORDER (confidence: 0.9900000095367432)\n",
      "\tSymbol: O (confidence: 0.9900000095367432)\n",
      "\tSymbol: R (confidence: 0.9900000095367432)\n",
      "\tSymbol: D (confidence: 0.9900000095367432)\n",
      "\tSymbol: E (confidence: 0.9900000095367432)\n",
      "\tSymbol: R (confidence: 1.0)\n",
      "Word text: # (confidence: 0.9900000095367432)\n",
      "\tSymbol: # (confidence: 0.9900000095367432)\n",
      "Word text: 064 (confidence: 0.9700000286102295)\n",
      "\tSymbol: 0 (confidence: 0.9700000286102295)\n",
      "\tSymbol: 6 (confidence: 0.9800000190734863)\n",
      "\tSymbol: 4 (confidence: 0.9700000286102295)\n",
      "\n",
      "Block confidence: 0.9900000095367432\n",
      "\n",
      "Paragraph confidence: 0.9900000095367432\n",
      "Word text: Location (confidence: 0.9900000095367432)\n",
      "\tSymbol: L (confidence: 0.9900000095367432)\n",
      "\tSymbol: o (confidence: 0.9900000095367432)\n",
      "\tSymbol: c (confidence: 1.0)\n",
      "\tSymbol: a (confidence: 1.0)\n",
      "\tSymbol: t (confidence: 1.0)\n",
      "\tSymbol: i (confidence: 1.0)\n",
      "\tSymbol: o (confidence: 1.0)\n",
      "\tSymbol: n (confidence: 1.0)\n",
      "Word text: : (confidence: 0.9900000095367432)\n",
      "\tSymbol: : (confidence: 0.9900000095367432)\n",
      "Word text: VZNIRVTX (confidence: 0.9900000095367432)\n",
      "\tSymbol: V (confidence: 0.9900000095367432)\n",
      "\tSymbol: Z (confidence: 0.9900000095367432)\n",
      "\tSymbol: N (confidence: 0.9900000095367432)\n",
      "\tSymbol: I (confidence: 0.9900000095367432)\n",
      "\tSymbol: R (confidence: 0.9900000095367432)\n",
      "\tSymbol: V (confidence: 0.9900000095367432)\n",
      "\tSymbol: T (confidence: 0.9900000095367432)\n",
      "\tSymbol: X (confidence: 0.9900000095367432)\n",
      "Word text: Device (confidence: 0.9900000095367432)\n",
      "\tSymbol: D (confidence: 0.9900000095367432)\n",
      "\tSymbol: e (confidence: 1.0)\n",
      "\tSymbol: v (confidence: 0.9900000095367432)\n",
      "\tSymbol: i (confidence: 1.0)\n",
      "\tSymbol: c (confidence: 0.9900000095367432)\n",
      "\tSymbol: e (confidence: 1.0)\n",
      "Word text: : (confidence: 0.9900000095367432)\n",
      "\tSymbol: : (confidence: 0.9900000095367432)\n",
      "Word text: POS1 (confidence: 0.9800000190734863)\n",
      "\tSymbol: P (confidence: 0.9900000095367432)\n",
      "\tSymbol: O (confidence: 0.9900000095367432)\n",
      "\tSymbol: S (confidence: 0.9900000095367432)\n",
      "\tSymbol: 1 (confidence: 0.949999988079071)\n",
      "Word text: Origin (confidence: 0.9900000095367432)\n",
      "\tSymbol: O (confidence: 0.9900000095367432)\n",
      "\tSymbol: r (confidence: 0.9900000095367432)\n",
      "\tSymbol: i (confidence: 1.0)\n",
      "\tSymbol: g (confidence: 0.9900000095367432)\n",
      "\tSymbol: i (confidence: 1.0)\n",
      "\tSymbol: n (confidence: 1.0)\n",
      "Word text: : (confidence: 0.9900000095367432)\n",
      "\tSymbol: : (confidence: 0.9900000095367432)\n",
      "Word text: POS (confidence: 0.9900000095367432)\n",
      "\tSymbol: P (confidence: 0.9900000095367432)\n",
      "\tSymbol: O (confidence: 0.9900000095367432)\n",
      "\tSymbol: S (confidence: 0.9900000095367432)\n",
      "Word text: Order (confidence: 0.9900000095367432)\n",
      "\tSymbol: O (confidence: 0.9900000095367432)\n",
      "\tSymbol: r (confidence: 0.9900000095367432)\n",
      "\tSymbol: d (confidence: 0.9900000095367432)\n",
      "\tSymbol: e (confidence: 1.0)\n",
      "\tSymbol: r (confidence: 1.0)\n",
      "Word text: ID (confidence: 0.9900000095367432)\n",
      "\tSymbol: I (confidence: 0.9900000095367432)\n",
      "\tSymbol: D (confidence: 0.9900000095367432)\n",
      "Word text: : (confidence: 0.9900000095367432)\n",
      "\tSymbol: : (confidence: 0.9900000095367432)\n",
      "Word text: 293073 (confidence: 0.9900000095367432)\n",
      "\tSymbol: 2 (confidence: 0.9900000095367432)\n",
      "\tSymbol: 9 (confidence: 0.9900000095367432)\n",
      "\tSymbol: 3 (confidence: 0.9900000095367432)\n",
      "\tSymbol: 0 (confidence: 0.9900000095367432)\n",
      "\tSymbol: 7 (confidence: 0.9900000095367432)\n",
      "\tSymbol: 3 (confidence: 0.9900000095367432)\n",
      "Word text: Cashier (confidence: 0.9900000095367432)\n",
      "\tSymbol: C (confidence: 0.9900000095367432)\n",
      "\tSymbol: a (confidence: 1.0)\n",
      "\tSymbol: s (confidence: 0.9900000095367432)\n",
      "\tSymbol: h (confidence: 0.9900000095367432)\n",
      "\tSymbol: i (confidence: 0.9900000095367432)\n",
      "\tSymbol: e (confidence: 1.0)\n",
      "\tSymbol: r (confidence: 1.0)\n",
      "Word text: : (confidence: 0.949999988079071)\n",
      "\tSymbol: : (confidence: 0.949999988079071)\n",
      "Word text: Veronica (confidence: 0.9800000190734863)\n",
      "\tSymbol: V (confidence: 0.9599999785423279)\n",
      "\tSymbol: e (confidence: 0.9800000190734863)\n",
      "\tSymbol: r (confidence: 1.0)\n",
      "\tSymbol: o (confidence: 0.9399999976158142)\n",
      "\tSymbol: n (confidence: 1.0)\n",
      "\tSymbol: i (confidence: 1.0)\n",
      "\tSymbol: c (confidence: 1.0)\n",
      "\tSymbol: a (confidence: 1.0)\n",
      "Word text: Date (confidence: 0.9900000095367432)\n",
      "\tSymbol: D (confidence: 0.9900000095367432)\n",
      "\tSymbol: a (confidence: 0.9900000095367432)\n",
      "\tSymbol: t (confidence: 1.0)\n",
      "\tSymbol: e (confidence: 1.0)\n",
      "Word text: : (confidence: 1.0)\n",
      "\tSymbol: : (confidence: 1.0)\n",
      "Word text: 04 (confidence: 0.9900000095367432)\n",
      "\tSymbol: 0 (confidence: 0.9900000095367432)\n",
      "\tSymbol: 4 (confidence: 0.9900000095367432)\n",
      "Word text: / (confidence: 0.9900000095367432)\n",
      "\tSymbol: / (confidence: 0.9900000095367432)\n",
      "Word text: 17 (confidence: 0.9900000095367432)\n",
      "\tSymbol: 1 (confidence: 0.9900000095367432)\n",
      "\tSymbol: 7 (confidence: 0.9900000095367432)\n",
      "Word text: / (confidence: 0.9900000095367432)\n",
      "\tSymbol: / (confidence: 0.9900000095367432)\n",
      "Word text: 2019 (confidence: 0.9900000095367432)\n",
      "\tSymbol: 2 (confidence: 1.0)\n",
      "\tSymbol: 0 (confidence: 0.9900000095367432)\n",
      "\tSymbol: 1 (confidence: 0.9900000095367432)\n",
      "\tSymbol: 9 (confidence: 0.9900000095367432)\n",
      "Word text: Time (confidence: 0.9900000095367432)\n",
      "\tSymbol: T (confidence: 0.9900000095367432)\n",
      "\tSymbol: i (confidence: 0.9900000095367432)\n",
      "\tSymbol: m (confidence: 0.9900000095367432)\n",
      "\tSymbol: e (confidence: 1.0)\n",
      "Word text: : (confidence: 0.9900000095367432)\n",
      "\tSymbol: : (confidence: 0.9900000095367432)\n",
      "Word text: 12 (confidence: 0.9900000095367432)\n",
      "\tSymbol: 1 (confidence: 1.0)\n",
      "\tSymbol: 2 (confidence: 0.9900000095367432)\n",
      "Word text: : (confidence: 0.9900000095367432)\n",
      "\tSymbol: : (confidence: 0.9900000095367432)\n",
      "Word text: 22 (confidence: 0.9900000095367432)\n",
      "\tSymbol: 2 (confidence: 1.0)\n",
      "\tSymbol: 2 (confidence: 0.9900000095367432)\n",
      "Word text: PM (confidence: 0.9800000190734863)\n",
      "\tSymbol: P (confidence: 0.9900000095367432)\n",
      "\tSymbol: M (confidence: 0.9700000286102295)\n",
      "Paragraph confidence: 0.9900000095367432\n",
      "Word text: Dine (confidence: 0.9900000095367432)\n",
      "\tSymbol: D (confidence: 0.9900000095367432)\n",
      "\tSymbol: i (confidence: 0.9900000095367432)\n",
      "\tSymbol: n (confidence: 0.9900000095367432)\n",
      "\tSymbol: e (confidence: 0.9900000095367432)\n",
      "Word text: In (confidence: 0.9900000095367432)\n",
      "\tSymbol: I (confidence: 0.9900000095367432)\n",
      "\tSymbol: n (confidence: 0.9900000095367432)\n",
      "\n",
      "Block confidence: 0.6000000238418579\n",
      "\n",
      "Paragraph confidence: 0.6000000238418579\n",
      "Word text: EREDE (confidence: 0.6000000238418579)\n",
      "\tSymbol: E (confidence: 0.5799999833106995)\n",
      "\tSymbol: R (confidence: 0.9100000262260437)\n",
      "\tSymbol: E (confidence: 0.8700000047683716)\n",
      "\tSymbol: D (confidence: 0.6000000238418579)\n",
      "\tSymbol: E (confidence: 0.05999999865889549)\n",
      "\n",
      "Block confidence: 0.9700000286102295\n",
      "\n",
      "Paragraph confidence: 0.9900000095367432\n",
      "Word text: 1 (confidence: 0.9900000095367432)\n",
      "\tSymbol: 1 (confidence: 0.9900000095367432)\n",
      "Word text: Chicken (confidence: 0.9900000095367432)\n",
      "\tSymbol: C (confidence: 0.9900000095367432)\n",
      "\tSymbol: h (confidence: 0.9900000095367432)\n",
      "\tSymbol: i (confidence: 0.9900000095367432)\n",
      "\tSymbol: c (confidence: 0.9900000095367432)\n",
      "\tSymbol: k (confidence: 0.9900000095367432)\n",
      "\tSymbol: e (confidence: 1.0)\n",
      "\tSymbol: n (confidence: 1.0)\n",
      "Paragraph confidence: 0.9700000286102295\n",
      "Word text: $ (confidence: 0.9900000095367432)\n",
      "\tSymbol: $ (confidence: 0.9900000095367432)\n",
      "Word text: 7 (confidence: 0.9900000095367432)\n",
      "\tSymbol: 7 (confidence: 0.9900000095367432)\n",
      "Word text: . (confidence: 0.9900000095367432)\n",
      "\tSymbol: . (confidence: 0.9900000095367432)\n",
      "Word text: 52 (confidence: 0.9900000095367432)\n",
      "\tSymbol: 5 (confidence: 0.9900000095367432)\n",
      "\tSymbol: 2 (confidence: 0.9900000095367432)\n",
      "Word text: 1 (confidence: 0.9900000095367432)\n",
      "\tSymbol: 1 (confidence: 0.9900000095367432)\n",
      "Word text: Add (confidence: 0.9900000095367432)\n",
      "\tSymbol: A (confidence: 0.9900000095367432)\n",
      "\tSymbol: d (confidence: 0.9900000095367432)\n",
      "\tSymbol: d (confidence: 0.9900000095367432)\n",
      "Word text: Quacaniole (confidence: 0.949999988079071)\n",
      "\tSymbol: Q (confidence: 0.9900000095367432)\n",
      "\tSymbol: u (confidence: 1.0)\n",
      "\tSymbol: a (confidence: 0.9900000095367432)\n",
      "\tSymbol: c (confidence: 0.9900000095367432)\n",
      "\tSymbol: a (confidence: 0.9900000095367432)\n",
      "\tSymbol: n (confidence: 0.9900000095367432)\n",
      "\tSymbol: i (confidence: 0.9100000262260437)\n",
      "\tSymbol: o (confidence: 0.8600000143051147)\n",
      "\tSymbol: l (confidence: 0.9100000262260437)\n",
      "\tSymbol: e (confidence: 0.9300000071525574)\n",
      "Paragraph confidence: 0.9599999785423279\n",
      "Word text: $ (confidence: 0.9900000095367432)\n",
      "\tSymbol: $ (confidence: 0.9900000095367432)\n",
      "Word text: 0 (confidence: 0.9900000095367432)\n",
      "\tSymbol: 0 (confidence: 0.9900000095367432)\n",
      "Word text: . (confidence: 1.0)\n",
      "\tSymbol: . (confidence: 1.0)\n",
      "Word text: 66 (confidence: 0.9800000190734863)\n",
      "\tSymbol: 6 (confidence: 0.9700000286102295)\n",
      "\tSymbol: 6 (confidence: 0.9900000095367432)\n",
      "Word text: = (confidence: 0.9900000095367432)\n",
      "\tSymbol: = (confidence: 0.9900000095367432)\n",
      "Word text: = (confidence: 1.0)\n",
      "\tSymbol: = (confidence: 1.0)\n",
      "Word text: = (confidence: 1.0)\n",
      "\tSymbol: = (confidence: 1.0)\n",
      "Word text: = (confidence: 1.0)\n",
      "\tSymbol: = (confidence: 1.0)\n",
      "Word text: = (confidence: 0.9900000095367432)\n",
      "\tSymbol: = (confidence: 0.9900000095367432)\n",
      "Word text: = (confidence: 0.9900000095367432)\n",
      "\tSymbol: = (confidence: 0.9900000095367432)\n",
      "Word text: = (confidence: 1.0)\n",
      "\tSymbol: = (confidence: 1.0)\n",
      "Word text: = (confidence: 1.0)\n",
      "\tSymbol: = (confidence: 1.0)\n",
      "Word text: Sub (confidence: 0.9900000095367432)\n",
      "\tSymbol: S (confidence: 0.9900000095367432)\n",
      "\tSymbol: u (confidence: 0.9900000095367432)\n",
      "\tSymbol: b (confidence: 0.9900000095367432)\n",
      "Word text: - (confidence: 0.9900000095367432)\n",
      "\tSymbol: - (confidence: 0.9900000095367432)\n",
      "Word text: Total (confidence: 0.8799999952316284)\n",
      "\tSymbol: T (confidence: 0.9900000095367432)\n",
      "\tSymbol: o (confidence: 1.0)\n",
      "\tSymbol: t (confidence: 0.9900000095367432)\n",
      "\tSymbol: a (confidence: 1.0)\n",
      "\tSymbol: l (confidence: 0.4300000071525574)\n",
      "Paragraph confidence: 0.9900000095367432\n",
      "Word text: $ (confidence: 0.9900000095367432)\n",
      "\tSymbol: $ (confidence: 0.9900000095367432)\n",
      "Word text: 8 (confidence: 0.9900000095367432)\n",
      "\tSymbol: 8 (confidence: 0.9900000095367432)\n",
      "Word text: . (confidence: 0.9900000095367432)\n",
      "\tSymbol: . (confidence: 0.9900000095367432)\n",
      "Word text: 18 (confidence: 0.9900000095367432)\n",
      "\tSymbol: 1 (confidence: 0.9900000095367432)\n",
      "\tSymbol: 8 (confidence: 0.9900000095367432)\n",
      "Word text: Sales (confidence: 0.9900000095367432)\n",
      "\tSymbol: S (confidence: 0.9900000095367432)\n",
      "\tSymbol: a (confidence: 1.0)\n",
      "\tSymbol: l (confidence: 0.9900000095367432)\n",
      "\tSymbol: e (confidence: 0.9900000095367432)\n",
      "\tSymbol: s (confidence: 1.0)\n",
      "Word text: Tax (confidence: 0.9900000095367432)\n",
      "\tSymbol: T (confidence: 0.9900000095367432)\n",
      "\tSymbol: a (confidence: 1.0)\n",
      "\tSymbol: x (confidence: 0.9900000095367432)\n",
      "Paragraph confidence: 0.9900000095367432\n",
      "Word text: $ (confidence: 0.9900000095367432)\n",
      "\tSymbol: $ (confidence: 0.9900000095367432)\n",
      "Word text: 0 (confidence: 0.9900000095367432)\n",
      "\tSymbol: 0 (confidence: 0.9900000095367432)\n",
      "Word text: . (confidence: 0.9900000095367432)\n",
      "\tSymbol: . (confidence: 0.9900000095367432)\n",
      "Word text: 67 (confidence: 0.9900000095367432)\n",
      "\tSymbol: 6 (confidence: 0.9900000095367432)\n",
      "\tSymbol: 7 (confidence: 0.9900000095367432)\n",
      "Word text: TOTAL (confidence: 0.9900000095367432)\n",
      "\tSymbol: T (confidence: 0.9900000095367432)\n",
      "\tSymbol: O (confidence: 0.9900000095367432)\n",
      "\tSymbol: T (confidence: 0.9900000095367432)\n",
      "\tSymbol: A (confidence: 1.0)\n",
      "\tSymbol: L (confidence: 0.9900000095367432)\n",
      "Paragraph confidence: 0.9700000286102295\n",
      "Word text: $ (confidence: 0.9800000190734863)\n",
      "\tSymbol: $ (confidence: 0.9800000190734863)\n",
      "Word text: 8 (confidence: 0.9900000095367432)\n",
      "\tSymbol: 8 (confidence: 0.9900000095367432)\n",
      "Word text: . (confidence: 0.9900000095367432)\n",
      "\tSymbol: . (confidence: 0.9900000095367432)\n",
      "Word text: 85 (confidence: 0.9900000095367432)\n",
      "\tSymbol: 8 (confidence: 0.9900000095367432)\n",
      "\tSymbol: 5 (confidence: 0.9900000095367432)\n",
      "Word text: Paid (confidence: 0.9900000095367432)\n",
      "\tSymbol: P (confidence: 0.9900000095367432)\n",
      "\tSymbol: a (confidence: 1.0)\n",
      "\tSymbol: i (confidence: 0.9900000095367432)\n",
      "\tSymbol: d (confidence: 0.9900000095367432)\n",
      "Word text: - (confidence: 0.9900000095367432)\n",
      "\tSymbol: - (confidence: 0.9900000095367432)\n",
      "Word text: Card (confidence: 0.9900000095367432)\n",
      "\tSymbol: C (confidence: 0.9900000095367432)\n",
      "\tSymbol: a (confidence: 1.0)\n",
      "\tSymbol: r (confidence: 0.9900000095367432)\n",
      "\tSymbol: d (confidence: 0.9900000095367432)\n",
      "Word text: # (confidence: 0.9800000190734863)\n",
      "\tSymbol: # (confidence: 0.9800000190734863)\n",
      "Word text: : (confidence: 0.9399999976158142)\n",
      "\tSymbol: : (confidence: 0.9399999976158142)\n",
      "Word text: * (confidence: 0.949999988079071)\n",
      "\tSymbol: * (confidence: 0.949999988079071)\n",
      "Word text: * (confidence: 0.9700000286102295)\n",
      "\tSymbol: * (confidence: 0.9700000286102295)\n",
      "Word text: * (confidence: 0.9800000190734863)\n",
      "\tSymbol: * (confidence: 0.9800000190734863)\n",
      "Word text: * (confidence: 0.9700000286102295)\n",
      "\tSymbol: * (confidence: 0.9700000286102295)\n",
      "Word text: * (confidence: 0.9800000190734863)\n",
      "\tSymbol: * (confidence: 0.9800000190734863)\n",
      "Word text: * (confidence: 0.9900000095367432)\n",
      "\tSymbol: * (confidence: 0.9900000095367432)\n",
      "Word text: * (confidence: 0.4699999988079071)\n",
      "\tSymbol: * (confidence: 0.4699999988079071)\n",
      "Word text: * (confidence: 0.9900000095367432)\n",
      "\tSymbol: * (confidence: 0.9900000095367432)\n",
      "Word text: * (confidence: 0.9900000095367432)\n",
      "\tSymbol: * (confidence: 0.9900000095367432)\n",
      "Word text: * (confidence: 0.9800000190734863)\n",
      "\tSymbol: * (confidence: 0.9800000190734863)\n",
      "Word text: * (confidence: 0.9900000095367432)\n",
      "\tSymbol: * (confidence: 0.9900000095367432)\n",
      "Word text: * (confidence: 0.9900000095367432)\n",
      "\tSymbol: * (confidence: 0.9900000095367432)\n",
      "Word text: 7622 (confidence: 0.9800000190734863)\n",
      "\tSymbol: 7 (confidence: 0.9800000190734863)\n",
      "\tSymbol: 6 (confidence: 0.9900000095367432)\n",
      "\tSymbol: 2 (confidence: 0.9900000095367432)\n",
      "\tSymbol: 2 (confidence: 0.9900000095367432)\n",
      "Word text: VISA (confidence: 0.9900000095367432)\n",
      "\tSymbol: V (confidence: 0.9900000095367432)\n",
      "\tSymbol: I (confidence: 0.9900000095367432)\n",
      "\tSymbol: S (confidence: 0.9900000095367432)\n",
      "\tSymbol: A (confidence: 1.0)\n",
      "Paragraph confidence: 0.9900000095367432\n",
      "Word text: $ (confidence: 0.9900000095367432)\n",
      "\tSymbol: $ (confidence: 0.9900000095367432)\n",
      "Word text: 8 (confidence: 0.9900000095367432)\n",
      "\tSymbol: 8 (confidence: 0.9900000095367432)\n",
      "Word text: . (confidence: 0.9900000095367432)\n",
      "\tSymbol: . (confidence: 0.9900000095367432)\n",
      "Word text: 85 (confidence: 0.9900000095367432)\n",
      "\tSymbol: 8 (confidence: 0.9900000095367432)\n",
      "\tSymbol: 5 (confidence: 0.9900000095367432)\n",
      "Word text: Balance (confidence: 0.9900000095367432)\n",
      "\tSymbol: B (confidence: 0.9900000095367432)\n",
      "\tSymbol: a (confidence: 1.0)\n",
      "\tSymbol: l (confidence: 0.9900000095367432)\n",
      "\tSymbol: a (confidence: 1.0)\n",
      "\tSymbol: n (confidence: 1.0)\n",
      "\tSymbol: c (confidence: 1.0)\n",
      "\tSymbol: e (confidence: 1.0)\n",
      "Paragraph confidence: 0.9900000095367432\n",
      "Word text: $ (confidence: 0.9900000095367432)\n",
      "\tSymbol: $ (confidence: 0.9900000095367432)\n",
      "Word text: 0 (confidence: 1.0)\n",
      "\tSymbol: 0 (confidence: 1.0)\n",
      "Word text: . (confidence: 1.0)\n",
      "\tSymbol: . (confidence: 1.0)\n",
      "Word text: 00 (confidence: 0.9900000095367432)\n",
      "\tSymbol: 0 (confidence: 0.9900000095367432)\n",
      "\tSymbol: 0 (confidence: 0.9900000095367432)\n",
      "\n",
      "Block confidence: 0.9900000095367432\n",
      "\n",
      "Paragraph confidence: 0.9900000095367432\n",
      "Word text: Thank (confidence: 0.9900000095367432)\n",
      "\tSymbol: T (confidence: 0.9900000095367432)\n",
      "\tSymbol: h (confidence: 0.9900000095367432)\n",
      "\tSymbol: a (confidence: 1.0)\n",
      "\tSymbol: n (confidence: 1.0)\n",
      "\tSymbol: k (confidence: 1.0)\n",
      "Word text: You (confidence: 0.9800000190734863)\n",
      "\tSymbol: Y (confidence: 0.9800000190734863)\n",
      "\tSymbol: o (confidence: 0.9900000095367432)\n",
      "\tSymbol: u (confidence: 0.9900000095367432)\n"
     ]
    }
   ],
   "source": [
    "detect_document(text_image)"
   ]
  },
  {
   "cell_type": "markdown",
   "metadata": {},
   "source": [
    "## Well I saw a lot of 99% confidence, it seems Google Vision is pretty confident of it's abilities. Let's see this again but with just the text\n"
   ]
  },
  {
   "cell_type": "code",
   "execution_count": 29,
   "metadata": {
    "collapsed": true
   },
   "outputs": [],
   "source": [
    "def detect_document_text(path):\n",
    "    \"\"\"Detects document features in an image.\"\"\"\n",
    "    client = vision.ImageAnnotatorClient()\n",
    "\n",
    "    with io.open(path, 'rb') as image_file:\n",
    "        content = image_file.read()\n",
    "\n",
    "    image = vision.types.Image(content=content)\n",
    "\n",
    "    response = client.document_text_detection(image=image)\n",
    "\n",
    "    for page in response.full_text_annotation.pages:\n",
    "        for block in page.blocks:\n",
    "            for paragraph in block.paragraphs:\n",
    "                for word in paragraph.words:\n",
    "                    word_text = ''.join([\n",
    "                        symbol.text for symbol in word.symbols\n",
    "                    ])\n",
    "                    print('Word text: {})'.format(\n",
    "                        word_text))"
   ]
  },
  {
   "cell_type": "code",
   "execution_count": 30,
   "metadata": {},
   "outputs": [
    {
     "name": "stdout",
     "output_type": "stream",
     "text": [
      "Word text: WELCOME)\n",
      "Word text: ORDER)\n",
      "Word text: #)\n",
      "Word text: 064)\n",
      "Word text: Location)\n",
      "Word text: :)\n",
      "Word text: VZNIRVTX)\n",
      "Word text: Device)\n",
      "Word text: :)\n",
      "Word text: POS1)\n",
      "Word text: Origin)\n",
      "Word text: :)\n",
      "Word text: POS)\n",
      "Word text: Order)\n",
      "Word text: ID)\n",
      "Word text: :)\n",
      "Word text: 293073)\n",
      "Word text: Cashier)\n",
      "Word text: :)\n",
      "Word text: Veronica)\n",
      "Word text: Date)\n",
      "Word text: :)\n",
      "Word text: 04)\n",
      "Word text: /)\n",
      "Word text: 17)\n",
      "Word text: /)\n",
      "Word text: 2019)\n",
      "Word text: Time)\n",
      "Word text: :)\n",
      "Word text: 12)\n",
      "Word text: :)\n",
      "Word text: 22)\n",
      "Word text: PM)\n",
      "Word text: Dine)\n",
      "Word text: In)\n",
      "Word text: EREDE)\n",
      "Word text: 1)\n",
      "Word text: Chicken)\n",
      "Word text: $)\n",
      "Word text: 7)\n",
      "Word text: .)\n",
      "Word text: 52)\n",
      "Word text: 1)\n",
      "Word text: Add)\n",
      "Word text: Quacaniole)\n",
      "Word text: $)\n",
      "Word text: 0)\n",
      "Word text: .)\n",
      "Word text: 66)\n",
      "Word text: =)\n",
      "Word text: =)\n",
      "Word text: =)\n",
      "Word text: =)\n",
      "Word text: =)\n",
      "Word text: =)\n",
      "Word text: =)\n",
      "Word text: =)\n",
      "Word text: Sub)\n",
      "Word text: -)\n",
      "Word text: Total)\n",
      "Word text: $)\n",
      "Word text: 8)\n",
      "Word text: .)\n",
      "Word text: 18)\n",
      "Word text: Sales)\n",
      "Word text: Tax)\n",
      "Word text: $)\n",
      "Word text: 0)\n",
      "Word text: .)\n",
      "Word text: 67)\n",
      "Word text: TOTAL)\n",
      "Word text: $)\n",
      "Word text: 8)\n",
      "Word text: .)\n",
      "Word text: 85)\n",
      "Word text: Paid)\n",
      "Word text: -)\n",
      "Word text: Card)\n",
      "Word text: #)\n",
      "Word text: :)\n",
      "Word text: *)\n",
      "Word text: *)\n",
      "Word text: *)\n",
      "Word text: *)\n",
      "Word text: *)\n",
      "Word text: *)\n",
      "Word text: *)\n",
      "Word text: *)\n",
      "Word text: *)\n",
      "Word text: *)\n",
      "Word text: *)\n",
      "Word text: *)\n",
      "Word text: 7622)\n",
      "Word text: VISA)\n",
      "Word text: $)\n",
      "Word text: 8)\n",
      "Word text: .)\n",
      "Word text: 85)\n",
      "Word text: Balance)\n",
      "Word text: $)\n",
      "Word text: 0)\n",
      "Word text: .)\n",
      "Word text: 00)\n",
      "Word text: Thank)\n",
      "Word text: You)\n"
     ]
    }
   ],
   "source": [
    "detect_document_text(text_image)"
   ]
  },
  {
   "cell_type": "markdown",
   "metadata": {},
   "source": [
    "## Can anyone guess what it was?"
   ]
  },
  {
   "cell_type": "code",
   "execution_count": 31,
   "metadata": {},
   "outputs": [
    {
     "data": {
      "text/html": [
       "<img src=\"text_image_1.jpg\" width=\"600\" style=\"transform:rotate(90deg);\"/>"
      ],
      "text/plain": [
       "<IPython.core.display.HTML object>"
      ]
     },
     "metadata": {},
     "output_type": "display_data"
    }
   ],
   "source": [
    "%%HTML\n",
    "<img src=\"text_image_1.jpg\" width=\"600\" style=\"transform:rotate(90deg);\"/>"
   ]
  },
  {
   "cell_type": "markdown",
   "metadata": {},
   "source": [
    "## Wow, Google Vision got it right again!"
   ]
  },
  {
   "cell_type": "markdown",
   "metadata": {},
   "source": [
    "# Okay, Google is too smart for this simple ML stuff. Let's really try to trick it now!"
   ]
  },
  {
   "cell_type": "code",
   "execution_count": 32,
   "metadata": {
    "collapsed": true
   },
   "outputs": [],
   "source": [
    "text_image_2 = os.path.join(CURRENT_DIR, \"IMG_0144.jpg\")"
   ]
  },
  {
   "cell_type": "code",
   "execution_count": 33,
   "metadata": {},
   "outputs": [
    {
     "data": {
      "text/html": [
       "<img src=\"IMG_0144.jpg\" width=\"600\"/>"
      ],
      "text/plain": [
       "<IPython.core.display.HTML object>"
      ]
     },
     "metadata": {},
     "output_type": "display_data"
    }
   ],
   "source": [
    "%%HTML\n",
    "<img src=\"IMG_0144.jpg\" width=\"600\"/>"
   ]
  },
  {
   "cell_type": "code",
   "execution_count": 34,
   "metadata": {
    "collapsed": true
   },
   "outputs": [],
   "source": [
    "client = vision.ImageAnnotatorClient()\n",
    "\n",
    "with io.open(text_image_2, 'rb') as image_file:\n",
    "    content = image_file.read()\n",
    "\n",
    "image = vision.types.Image(content=content)\n",
    "\n",
    "response = client.document_text_detection(image=image)\n",
    "document = response.full_text_annotation"
   ]
  },
  {
   "cell_type": "code",
   "execution_count": 35,
   "metadata": {},
   "outputs": [
    {
     "name": "stdout",
     "output_type": "stream",
     "text": [
      "Word text: jax = jax\n",
      "Word text: tryggði = secured\n",
      "Word text: sér = a\n",
      "Word text: sæti = seat\n",
      "Word text: í = in\n",
      "Word text: undanúrslitum = semi-final\n",
      "Word text: Meistaradeildar = Masters\n",
      "Word text: Evrópu = Europe\n",
      "Word text: í = in\n",
      "Word text: kvöld = evening\n",
      "Word text: með = with\n",
      "Word text: 2 = 2\n",
      "Word text: - = -\n",
      "Word text: 1 = 1\n",
      "Word text: sigri = victory\n",
      "Word text: á = on\n",
      "Word text: Juventus = Juventus\n",
      "Word text: . = .\n",
      "Word text: Þetta = this\n",
      "Word text: er = is\n",
      "Word text: í = in\n",
      "Word text: fyrsta = first\n",
      "Word text: sinn = his\n",
      "Word text: síðan = ago\n",
      "Word text: 1997 = 1997\n",
      "Word text: sem = the\n",
      "Word text: Ajax = Ajax\n",
      "Word text: kemst = finds\n",
      "Word text: í = in\n",
      "Word text: undanúrslitin = semifinals\n",
      "Word text: . = .\n",
      "Word text: Það = it\n",
      "Word text: var = where\n",
      "Word text: þriðja = third\n",
      "Word text: árið = the year\n",
      "Word text: í = in\n",
      "Word text: röð = series\n",
      "Word text: sem = the\n",
      "Word text: Ajax = Ajax\n",
      "Word text: komst = found\n",
      "Word text: í = in\n",
      "Word text: undanúrslitin = semifinals\n",
      "Word text: og = and\n",
      "Word text: annað = other\n",
      "Word text: árið = the year\n",
      "Word text: í = in\n",
      "Word text: röð = series\n",
      "Word text: sem = the\n",
      "Word text: Juventus = Juventus\n",
      "Word text: batt = batt\n",
      "Word text: enda = own\n",
      "Word text: á = on\n",
      "Word text: drauma = dream\n",
      "Word text: Ajax = Ajax\n",
      "Word text: um = one\n",
      "Word text: Evróputitilinn = European title\n",
      "Word text: . = .\n",
      "Word text: í = in\n",
      "Word text: því = because\n",
      "Word text: liði = items\n",
      "Word text: voru = were\n",
      "Word text: leikmenn = players\n",
      "Word text: á = on\n",
      "Word text: borð = table\n",
      "Word text: við = the\n",
      "Word text: Edwin = Edwin\n",
      "Word text: van = from\n",
      "Word text: der = the\n",
      "Word text: Sar = Sar\n",
      "Word text: , = ,\n",
      "Word text: Danny = Danny\n",
      "Word text: Blind = Blind\n",
      "Word text: , = ,\n",
      "Word text: de = of\n",
      "Word text: Boer = farmer\n",
      "Word text: bræðurnir = brothers\n",
      "Word text: , = ,\n",
      "Word text: Frank = Frank\n",
      "Word text: og = and\n",
      "Word text: Ronald = Ronald\n",
      "Word text: , = ,\n",
      "Word text: Marc = Marc\n",
      "Word text: Overmars = Overmars\n",
      "Word text: og = and\n",
      "Word text: Jari = Finger\n",
      "Word text: Litmanen = Litmanen\n",
      "Word text: undir = the\n",
      "Word text: stjórn = Board\n",
      "Word text: Louis = Louis\n",
      "Word text: van = from\n",
      "Word text: Gaal = Gaal\n",
      "Word text: . = .\n",
      "Word text: Síðan = ago\n",
      "Word text: þá = then\n",
      "Word text: hafði = had\n",
      "Word text: Ajax = Ajax\n",
      "Word text: aðeins = only\n",
      "Word text: einu = one\n",
      "Word text: sinni = his\n",
      "Word text: komist = found\n",
      "Word text: í = in\n",
      "Word text: átta = eight\n",
      "Word text: liða = items\n",
      "Word text: úrslitin = finals\n",
      "Word text: , = ,\n",
      "Word text: fyrir = for\n",
      "Word text: sextán = sixteen\n",
      "Word text: árum = years\n",
      "Word text: síðar = later\n",
      "Word text: þar = there\n",
      "Word text: til = to\n",
      "Word text: í = in\n",
      "Word text: ár = price\n",
      "Word text: þegar = when\n",
      "Word text: Ajax = Ajax\n",
      "Word text: sló = struck\n",
      "Word text: út = out\n",
      "Word text: Real = Real\n",
      "Word text: Madrid = Madrid\n",
      "Word text: í = in\n",
      "Word text: 16 = 16\n",
      "Word text: - = -\n",
      "Word text: liða = items\n",
      "Word text: úrslitunum = finals\n",
      "Word text: . = .\n",
      "Word text: Ajax = Ajax\n",
      "Word text: fylgdi = followed\n",
      "Word text: því = because\n",
      "Word text: eftir = by\n",
      "Word text: með = with\n",
      "Word text: því = because\n",
      "Word text: að = to\n",
      "Word text: slá = beat\n",
      "Word text: út = out\n",
      "Word text: Juventus = Juventus\n",
      "Word text: í = in\n",
      "Word text: kvöld = evening\n",
      "Word text: með = with\n",
      "Word text: 2 = 2\n",
      "Word text: - = -\n",
      "Word text: 1 = 1\n",
      "Word text: sigri = victory\n",
      "Word text: á = on\n",
      "Word text: Juventus = Juventus\n",
      "Word text: eftir = by\n",
      "Word text: að = to\n",
      "Word text: fyrri = previous\n",
      "Word text: leik = game\n",
      "Word text: liðanna = teams\n",
      "Word text: lauk = onion\n",
      "Word text: með = with\n",
      "Word text: 1 = 1\n",
      "Word text: - = -\n",
      "Word text: 1 = 1\n",
      "Word text: jafntefli = draw\n",
      "Word text: í = in\n",
      "Word text: Amsterdam = Amsterdam\n",
      "Word text: . = .\n",
      "Word text: Óvíst = uncertain\n",
      "Word text: er = is\n",
      "Word text: hvort = whether\n",
      "Word text: Ajax = Ajax\n",
      "Word text: mæti = meet\n",
      "Word text: Tottenham = Tottenham\n",
      "Word text: eða = or\n",
      "Word text: Manchester = Manchester\n",
      "Word text: City = City\n",
      "Word text: í = in\n",
      "Word text: undanúrslitunum = semi-final\n",
      "Word text: en = in\n",
      "Word text: það = it\n",
      "Word text: kemur = comes\n",
      "Word text: í = in\n",
      "Word text: ljós = light\n",
      "Word text: annað = other\n",
      "Word text: kvöld = evening\n",
      "Word text: þegar = when\n",
      "Word text: liðin = teams\n",
      "Word text: mætast = meet\n",
      "Word text: á = on\n",
      "Word text: Etihad = Etihad\n",
      "Word text: - = -\n",
      "Word text: vellinum = court\n",
      "Word text: . = .\n",
      "Word text: ATHUGASEMDIR = NOTES\n"
     ]
    }
   ],
   "source": [
    "for page in response.full_text_annotation.pages:\n",
    "        for block in page.blocks:\n",
    "            for paragraph in block.paragraphs:\n",
    "                for word in paragraph.words:\n",
    "                    word_text = ''.join([\n",
    "                        symbol.text for symbol in word.symbols\n",
    "                    ])\n",
    "                    en_word = translate_client.translate(word_text, target_language=\"en\")\n",
    "                    en_word = en_word['translatedText']\n",
    "                    print('Word text: {} = {}'.format(\n",
    "                        word_text, en_word))"
   ]
  },
  {
   "cell_type": "code",
   "execution_count": 36,
   "metadata": {},
   "outputs": [
    {
     "name": "stdout",
     "output_type": "stream",
     "text": [
      "jax secured a seat in semi-final Masters Europe in evening with 2 - 1 victory on Juventus . this is in first his ago 1997 the Ajax finds in semifinals . it where third the year in series the Ajax found in semifinals and other the year in series the Juventus batt own on dream Ajax one European title . in because items were players on table the Edwin from the Sar , Danny Blind , of farmer brothers , Frank and Ronald , Marc Overmars and Finger Litmanen the Board Louis from Gaal . ago then had Ajax only one his found in eight items finals , for sixteen years later there to in price when Ajax struck out Real Madrid in 16 - items finals . Ajax followed because by with because to beat out Juventus in evening with 2 - 1 victory on Juventus by to previous game teams onion with 1 - 1 draw in Amsterdam . uncertain is whether Ajax meet Tottenham or Manchester City in semi-final in it comes in light other evening when teams meet on Etihad - court . NOTES\n"
     ]
    }
   ],
   "source": [
    "list_of_words = []\n",
    "for page in response.full_text_annotation.pages:\n",
    "        for block in page.blocks:\n",
    "            for paragraph in block.paragraphs:\n",
    "                for word in paragraph.words:\n",
    "                    word_text = ''.join([\n",
    "                        symbol.text for symbol in word.symbols\n",
    "                    ])\n",
    "                    en_word = translate_client.translate(word_text, target_language=\"en\")\n",
    "                    en_word = en_word['translatedText']\n",
    "                    list_of_words.append(en_word)\n",
    "translated_text = ' '.join(list_of_words)\n",
    "print(translated_text)"
   ]
  },
  {
   "cell_type": "markdown",
   "metadata": {},
   "source": [
    "## Okay, so Google can translate a picture into text, then translate that text to English! \n",
    "## Now that is cool!"
   ]
  },
  {
   "cell_type": "markdown",
   "metadata": {},
   "source": [
    "https://www.frettabladid.is/sport/fyrsta-sinn-i-22-ar-sem-ajax-fer-i-undanurslitin/"
   ]
  },
  {
   "cell_type": "markdown",
   "metadata": {},
   "source": [
    "## But wait, can Google tells us the sentiment of this article?"
   ]
  },
  {
   "cell_type": "code",
   "execution_count": 37,
   "metadata": {
    "collapsed": true
   },
   "outputs": [],
   "source": [
    "document = types.Document(content=translated_text, type=enums.Document.Type.PLAIN_TEXT)\n",
    "annotations = language_client.analyze_sentiment(document=document)"
   ]
  },
  {
   "cell_type": "code",
   "execution_count": 38,
   "metadata": {
    "collapsed": true
   },
   "outputs": [],
   "source": [
    "def print_result(annotations):\n",
    "    score = annotations.document_sentiment.score\n",
    "    magnitude = annotations.document_sentiment.magnitude\n",
    "\n",
    "    for index, sentence in enumerate(annotations.sentences):\n",
    "        sentence_sentiment = sentence.sentiment.score\n",
    "        print('Sentence {} has a sentiment score of {}'.format(\n",
    "            index, sentence_sentiment))\n",
    "\n",
    "    print('Overall Sentiment: score of {} with magnitude of {}'.format(\n",
    "        score, magnitude))"
   ]
  },
  {
   "cell_type": "code",
   "execution_count": 39,
   "metadata": {},
   "outputs": [
    {
     "name": "stdout",
     "output_type": "stream",
     "text": [
      "Sentence 0 has a sentiment score of 0.20000000298023224\n",
      "Sentence 1 has a sentiment score of 0.0\n",
      "Sentence 2 has a sentiment score of 0.6000000238418579\n",
      "Sentence 3 has a sentiment score of 0.20000000298023224\n",
      "Sentence 4 has a sentiment score of 0.0\n",
      "Sentence 5 has a sentiment score of 0.0\n",
      "Sentence 6 has a sentiment score of 0.0\n",
      "Sentence 7 has a sentiment score of 0.10000000149011612\n",
      "Overall Sentiment: score of 0.10000000149011612 with magnitude of 1.5\n"
     ]
    }
   ],
   "source": [
    "print_result(annotations=annotations)"
   ]
  },
  {
   "cell_type": "markdown",
   "metadata": {},
   "source": [
    "## Hopefully you got inspired with some use cases working with ML"
   ]
  },
  {
   "cell_type": "markdown",
   "metadata": {},
   "source": [
    "## Thank you"
   ]
  }
 ],
 "metadata": {
  "kernelspec": {
   "display_name": "Python 3",
   "language": "python",
   "name": "python3"
  },
  "language_info": {
   "codemirror_mode": {
    "name": "ipython",
    "version": 3
   },
   "file_extension": ".py",
   "mimetype": "text/x-python",
   "name": "python",
   "nbconvert_exporter": "python",
   "pygments_lexer": "ipython3",
   "version": "3.6.7"
  }
 },
 "nbformat": 4,
 "nbformat_minor": 2
}
